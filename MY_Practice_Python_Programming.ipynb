{
  "nbformat": 4,
  "nbformat_minor": 0,
  "metadata": {
    "colab": {
      "provenance": [],
      "include_colab_link": true
    },
    "kernelspec": {
      "name": "python3",
      "display_name": "Python 3"
    },
    "language_info": {
      "name": "python"
    }
  },
  "cells": [
    {
      "cell_type": "markdown",
      "metadata": {
        "id": "view-in-github",
        "colab_type": "text"
      },
      "source": [
        "<a href=\"https://colab.research.google.com/github/akhilg555/Logicmojo-AI-ML-Sept25-Akhil/blob/main/MY_Practice_Python_Programming.ipynb\" target=\"_parent\"><img src=\"https://colab.research.google.com/assets/colab-badge.svg\" alt=\"Open In Colab\"/></a>"
      ]
    },
    {
      "cell_type": "code",
      "execution_count": null,
      "metadata": {
        "colab": {
          "base_uri": "https://localhost:8080/"
        },
        "id": "CjxEq6OjB0FV",
        "outputId": "f7257584-35ae-4435-f47a-6221cbec7917"
      },
      "outputs": [
        {
          "output_type": "execute_result",
          "data": {
            "text/plain": [
              "set"
            ]
          },
          "metadata": {},
          "execution_count": 1
        }
      ],
      "source": [
        "s = {1,2,3}\n",
        "type(s)"
      ]
    },
    {
      "cell_type": "code",
      "source": [
        "s = {1,2}\n",
        "s"
      ],
      "metadata": {
        "colab": {
          "base_uri": "https://localhost:8080/"
        },
        "id": "qojqWENmGmOj",
        "outputId": "ce98afbf-d454-4fda-c331-fb3c2862e4c0"
      },
      "execution_count": null,
      "outputs": [
        {
          "output_type": "execute_result",
          "data": {
            "text/plain": [
              "{1, 2}"
            ]
          },
          "metadata": {},
          "execution_count": 2
        }
      ]
    },
    {
      "cell_type": "code",
      "source": [
        "s = {1}\n",
        "s2 = {2}"
      ],
      "metadata": {
        "id": "0OvH5EDuGmQ8"
      },
      "execution_count": null,
      "outputs": []
    },
    {
      "cell_type": "code",
      "source": [
        "l = [1,2,3,4,5,6,12,3,4,5]\n",
        "set(l)"
      ],
      "metadata": {
        "colab": {
          "base_uri": "https://localhost:8080/"
        },
        "id": "_kmRi4ATGmUe",
        "outputId": "d5cfdea5-9b9c-45a5-8005-53006ea83939"
      },
      "execution_count": null,
      "outputs": [
        {
          "output_type": "execute_result",
          "data": {
            "text/plain": [
              "{1, 2, 3, 4, 5, 6, 12}"
            ]
          },
          "metadata": {},
          "execution_count": 3
        }
      ]
    },
    {
      "cell_type": "code",
      "source": [
        "d = {'No':0, \"Yes\":1}\n",
        "l = [\"No\",\"Yes\",\"No\"]\n",
        "s = map(d.get,l)\n",
        "list(s)\n"
      ],
      "metadata": {
        "colab": {
          "base_uri": "https://localhost:8080/"
        },
        "id": "X5rhcECIGmXm",
        "outputId": "f721f5c3-5c1a-4d90-af36-dbe0bc5fb2d4"
      },
      "execution_count": null,
      "outputs": [
        {
          "output_type": "execute_result",
          "data": {
            "text/plain": [
              "[0, 1, 0]"
            ]
          },
          "metadata": {},
          "execution_count": 8
        }
      ]
    },
    {
      "cell_type": "code",
      "source": [
        "s = [d[x] for x in l]\n",
        "s"
      ],
      "metadata": {
        "colab": {
          "base_uri": "https://localhost:8080/"
        },
        "id": "a4HSM5aBuGC8",
        "outputId": "ce72d69d-89ad-4566-f70d-ef3db9b8c2a1"
      },
      "execution_count": null,
      "outputs": [
        {
          "output_type": "execute_result",
          "data": {
            "text/plain": [
              "[0, 1, 0]"
            ]
          },
          "metadata": {},
          "execution_count": 13
        }
      ]
    },
    {
      "cell_type": "code",
      "source": [
        "def func(x):\n",
        "  if x == \"Yes\":\n",
        "    x = 1\n",
        "  elif x == \"No\":\n",
        "    x = 0\n",
        "  return x\n",
        "l = [\"No\",\"Yes\",\"No\"]\n",
        "s = map(func,l)\n",
        "list(s)"
      ],
      "metadata": {
        "colab": {
          "base_uri": "https://localhost:8080/"
        },
        "id": "GKsqoNDztNY5",
        "outputId": "7c566da7-380a-45c3-c07e-2cfa2f83dd67"
      },
      "execution_count": null,
      "outputs": [
        {
          "output_type": "execute_result",
          "data": {
            "text/plain": [
              "[0, 1, 0]"
            ]
          },
          "metadata": {},
          "execution_count": 1
        }
      ]
    },
    {
      "cell_type": "code",
      "source": [
        "l=('Yes','No','Yes')\n",
        "print(list(map(func,l)))"
      ],
      "metadata": {
        "colab": {
          "base_uri": "https://localhost:8080/"
        },
        "id": "-spQsB0jurfT",
        "outputId": "ca7b3919-3e81-4f64-eed8-94f2a1fd357f"
      },
      "execution_count": null,
      "outputs": [
        {
          "output_type": "stream",
          "name": "stdout",
          "text": [
            "[1, 0, 1]\n"
          ]
        }
      ]
    },
    {
      "cell_type": "code",
      "source": [],
      "metadata": {
        "id": "l1sNVgIHWNvT"
      },
      "execution_count": null,
      "outputs": []
    },
    {
      "cell_type": "markdown",
      "source": [
        "Practice Questions - 9/14"
      ],
      "metadata": {
        "id": "E393OS-fWOFJ"
      }
    },
    {
      "cell_type": "code",
      "source": [
        "#What will be the output of the following code?\n",
        "x = \"5\"\n",
        "y = \"10\"\n",
        "print(x + y)\n"
      ],
      "metadata": {
        "colab": {
          "base_uri": "https://localhost:8080/"
        },
        "id": "NkWHbCPOUDcg",
        "outputId": "04543ba0-3557-4e91-9820-c65e045bf287"
      },
      "execution_count": null,
      "outputs": [
        {
          "output_type": "stream",
          "name": "stdout",
          "text": [
            "510\n"
          ]
        }
      ]
    },
    {
      "cell_type": "code",
      "source": [
        "Given the dictionary d = {'a': 1, 'b': 2}, what will d.get('c', 3) return?\n",
        "A) 1\n",
        "B) 2\n",
        "C) None\n",
        "D) 3\n"
      ],
      "metadata": {
        "id": "9e6E55DzUDfC"
      },
      "execution_count": null,
      "outputs": []
    },
    {
      "cell_type": "code",
      "source": [
        "d = {'a': 1, 'b': 2}\n",
        "d.get('b',3)"
      ],
      "metadata": {
        "colab": {
          "base_uri": "https://localhost:8080/"
        },
        "id": "YpdlYde_Edvd",
        "outputId": "92c5c1cf-736f-4887-bc4d-390ca093a0e8"
      },
      "execution_count": null,
      "outputs": [
        {
          "output_type": "execute_result",
          "data": {
            "text/plain": [
              "2"
            ]
          },
          "metadata": {},
          "execution_count": 7
        }
      ]
    },
    {
      "cell_type": "code",
      "source": [
        "d = {'a': 1, 'b': 2}\n",
        "d.get('c',5)"
      ],
      "metadata": {
        "colab": {
          "base_uri": "https://localhost:8080/"
        },
        "id": "38ljwIpgUDh_",
        "outputId": "9edb3901-dc31-43ad-934c-3dff3ec0951d"
      },
      "execution_count": null,
      "outputs": [
        {
          "output_type": "execute_result",
          "data": {
            "text/plain": [
              "5"
            ]
          },
          "metadata": {},
          "execution_count": 9
        }
      ]
    },
    {
      "cell_type": "code",
      "source": [
        "#What will be the output of the following code?\n",
        "a, b = 5, 3\n",
        "a %= b\n",
        "print(a)\n"
      ],
      "metadata": {
        "id": "CVAboUv0UDks"
      },
      "execution_count": null,
      "outputs": []
    },
    {
      "cell_type": "code",
      "source": [
        "l = [0,3,4,5,6,8,9,19]\n",
        "\n",
        "l[4]"
      ],
      "metadata": {
        "colab": {
          "base_uri": "https://localhost:8080/"
        },
        "id": "NmVCNvU6UDnz",
        "outputId": "16333414-bba2-466b-a3db-dc37ff1f81a3"
      },
      "execution_count": null,
      "outputs": [
        {
          "output_type": "execute_result",
          "data": {
            "text/plain": [
              "6"
            ]
          },
          "metadata": {},
          "execution_count": 8
        }
      ]
    },
    {
      "cell_type": "code",
      "source": [
        "l[:4]  ###End slicer value is never included in the output"
      ],
      "metadata": {
        "colab": {
          "base_uri": "https://localhost:8080/"
        },
        "id": "fPyCVSZ5UDqw",
        "outputId": "cd742421-5778-4dc4-8654-11e18edf5a03"
      },
      "execution_count": null,
      "outputs": [
        {
          "output_type": "execute_result",
          "data": {
            "text/plain": [
              "[0, 3, 4, 5]"
            ]
          },
          "metadata": {},
          "execution_count": 11
        }
      ]
    },
    {
      "cell_type": "code",
      "source": [
        "l[2:5]"
      ],
      "metadata": {
        "colab": {
          "base_uri": "https://localhost:8080/"
        },
        "id": "UxbZTVEhUDtc",
        "outputId": "b1ceac70-e996-46cd-dd54-130858dc437d"
      },
      "execution_count": null,
      "outputs": [
        {
          "output_type": "execute_result",
          "data": {
            "text/plain": [
              "[4, 5, 6]"
            ]
          },
          "metadata": {},
          "execution_count": 12
        }
      ]
    },
    {
      "cell_type": "code",
      "source": [
        "l[5:]"
      ],
      "metadata": {
        "colab": {
          "base_uri": "https://localhost:8080/"
        },
        "id": "1LBYtOA3UDv_",
        "outputId": "86632d3d-72dd-4286-fb7a-c5cb541be1f3"
      },
      "execution_count": null,
      "outputs": [
        {
          "output_type": "execute_result",
          "data": {
            "text/plain": [
              "[8, 9, 19]"
            ]
          },
          "metadata": {},
          "execution_count": 13
        }
      ]
    },
    {
      "cell_type": "code",
      "source": [
        "l[-2:-5]"
      ],
      "metadata": {
        "colab": {
          "base_uri": "https://localhost:8080/"
        },
        "id": "jj7rvxA6ZgqJ",
        "outputId": "c9f648c9-756b-43e0-db9a-bfc2b4b47eec"
      },
      "execution_count": null,
      "outputs": [
        {
          "output_type": "execute_result",
          "data": {
            "text/plain": [
              "[]"
            ]
          },
          "metadata": {},
          "execution_count": 15
        }
      ]
    },
    {
      "cell_type": "code",
      "source": [
        "l[2:0]"
      ],
      "metadata": {
        "colab": {
          "base_uri": "https://localhost:8080/"
        },
        "id": "jX2DM_0UZ2lH",
        "outputId": "3f52b74a-19c4-4f2f-eb87-5e6d75d8cf66"
      },
      "execution_count": null,
      "outputs": [
        {
          "output_type": "execute_result",
          "data": {
            "text/plain": [
              "[]"
            ]
          },
          "metadata": {},
          "execution_count": 15
        }
      ]
    },
    {
      "cell_type": "code",
      "source": [
        "l[-5:-2]"
      ],
      "metadata": {
        "colab": {
          "base_uri": "https://localhost:8080/"
        },
        "id": "mU0WAZMfZ70K",
        "outputId": "f2fad9eb-3d6d-41a1-ca13-a11a4a1ca249"
      },
      "execution_count": null,
      "outputs": [
        {
          "output_type": "execute_result",
          "data": {
            "text/plain": [
              "[5, 6, 8]"
            ]
          },
          "metadata": {},
          "execution_count": 16
        }
      ]
    },
    {
      "cell_type": "code",
      "source": [
        "l[:-5]"
      ],
      "metadata": {
        "colab": {
          "base_uri": "https://localhost:8080/"
        },
        "id": "fNMOLYq4aELL",
        "outputId": "437730ff-ac9a-4bc7-e82b-c378fba5855c"
      },
      "execution_count": null,
      "outputs": [
        {
          "output_type": "execute_result",
          "data": {
            "text/plain": [
              "[0, 3, 4]"
            ]
          },
          "metadata": {},
          "execution_count": 17
        }
      ]
    },
    {
      "cell_type": "code",
      "source": [
        "l = [0,3,4,5,6,8,9,19]\n",
        "l[:-1:2]"
      ],
      "metadata": {
        "colab": {
          "base_uri": "https://localhost:8080/"
        },
        "id": "-WqFQK_fataL",
        "outputId": "0e37cc7d-8720-40dc-c70e-af674ea76250"
      },
      "execution_count": null,
      "outputs": [
        {
          "output_type": "execute_result",
          "data": {
            "text/plain": [
              "[0, 4, 6, 9]"
            ]
          },
          "metadata": {},
          "execution_count": 18
        }
      ]
    },
    {
      "cell_type": "code",
      "source": [
        "l[::2]"
      ],
      "metadata": {
        "colab": {
          "base_uri": "https://localhost:8080/"
        },
        "id": "9H-bc4_fb1HI",
        "outputId": "35fffcee-2697-424c-95c7-42376ed0b130"
      },
      "execution_count": null,
      "outputs": [
        {
          "output_type": "execute_result",
          "data": {
            "text/plain": [
              "[0, 4, 6, 9]"
            ]
          },
          "metadata": {},
          "execution_count": 22
        }
      ]
    },
    {
      "cell_type": "code",
      "source": [
        "l[::-1]"
      ],
      "metadata": {
        "colab": {
          "base_uri": "https://localhost:8080/"
        },
        "id": "VAXTcCG-b_X8",
        "outputId": "f9ee4b71-6d4e-45f6-bfc2-66beb0b8ae0b"
      },
      "execution_count": null,
      "outputs": [
        {
          "output_type": "execute_result",
          "data": {
            "text/plain": [
              "[19, 9, 8, 6, 5, 4, 3, 0]"
            ]
          },
          "metadata": {},
          "execution_count": 23
        }
      ]
    },
    {
      "cell_type": "code",
      "source": [
        "l[::-2]\n"
      ],
      "metadata": {
        "colab": {
          "base_uri": "https://localhost:8080/"
        },
        "id": "w_md81LtcSL9",
        "outputId": "4e0913e6-ceef-4140-a4fa-2e84e294c7d5"
      },
      "execution_count": null,
      "outputs": [
        {
          "output_type": "execute_result",
          "data": {
            "text/plain": [
              "[19, 8, 5, 3]"
            ]
          },
          "metadata": {},
          "execution_count": 24
        }
      ]
    },
    {
      "cell_type": "code",
      "source": [
        "s = \"Rishabh\"\n",
        "s[::-1]"
      ],
      "metadata": {
        "colab": {
          "base_uri": "https://localhost:8080/",
          "height": 35
        },
        "id": "JvKB3XIWcZoI",
        "outputId": "d661832b-7176-4b5a-fdbf-c575bb19d081"
      },
      "execution_count": null,
      "outputs": [
        {
          "output_type": "execute_result",
          "data": {
            "text/plain": [
              "'hbahsiR'"
            ],
            "application/vnd.google.colaboratory.intrinsic+json": {
              "type": "string"
            }
          },
          "metadata": {},
          "execution_count": 25
        }
      ]
    },
    {
      "cell_type": "code",
      "source": [
        "l = (0,3,4,5,6,8,9,19)\n",
        "l[:-1:3]"
      ],
      "metadata": {
        "colab": {
          "base_uri": "https://localhost:8080/"
        },
        "id": "qglVCbawc5wY",
        "outputId": "4008ec8a-8354-4a21-f4f2-685ec2639705"
      },
      "execution_count": null,
      "outputs": [
        {
          "output_type": "execute_result",
          "data": {
            "text/plain": [
              "(0, 5, 9)"
            ]
          },
          "metadata": {},
          "execution_count": 26
        }
      ]
    },
    {
      "cell_type": "code",
      "source": [
        "l = [1,0,3,[2,3],'a']\n",
        "l[4]"
      ],
      "metadata": {
        "colab": {
          "base_uri": "https://localhost:8080/",
          "height": 35
        },
        "id": "l1eMYNsFdDx9",
        "outputId": "747d1dfa-235f-4c2d-badb-c58ae235e41c"
      },
      "execution_count": null,
      "outputs": [
        {
          "output_type": "execute_result",
          "data": {
            "text/plain": [
              "'a'"
            ],
            "application/vnd.google.colaboratory.intrinsic+json": {
              "type": "string"
            }
          },
          "metadata": {},
          "execution_count": 30
        }
      ]
    },
    {
      "cell_type": "code",
      "source": [
        "type(l)"
      ],
      "metadata": {
        "colab": {
          "base_uri": "https://localhost:8080/"
        },
        "id": "fjj0XBBjdD0d",
        "outputId": "43d986cb-9064-481d-d150-4ca70fef3dac"
      },
      "execution_count": null,
      "outputs": [
        {
          "output_type": "execute_result",
          "data": {
            "text/plain": [
              "list"
            ]
          },
          "metadata": {},
          "execution_count": 29
        }
      ]
    },
    {
      "cell_type": "code",
      "source": [
        "x = 41\n",
        "if x > 30:\n",
        "  if x%2==0 :\n",
        "    pass\n",
        "  else:\n",
        "    print(\"A\")\n",
        "else:\n",
        "  print('Condition not passed')"
      ],
      "metadata": {
        "colab": {
          "base_uri": "https://localhost:8080/"
        },
        "id": "Buf82TNJdD6i",
        "outputId": "7aaf775b-fe87-4083-befb-206daefdea26"
      },
      "execution_count": null,
      "outputs": [
        {
          "output_type": "stream",
          "name": "stdout",
          "text": [
            "A\n"
          ]
        }
      ]
    },
    {
      "cell_type": "code",
      "source": [
        "range(10)\n"
      ],
      "metadata": {
        "colab": {
          "base_uri": "https://localhost:8080/"
        },
        "id": "qR2uftJ1dD9Z",
        "outputId": "767a4e26-aaca-41af-e737-0080b5fda479"
      },
      "execution_count": null,
      "outputs": [
        {
          "output_type": "execute_result",
          "data": {
            "text/plain": [
              "range(0, 10)"
            ]
          },
          "metadata": {},
          "execution_count": 9
        }
      ]
    },
    {
      "cell_type": "code",
      "source": [
        "for i in range(10):\n",
        "  print(i)"
      ],
      "metadata": {
        "colab": {
          "base_uri": "https://localhost:8080/"
        },
        "id": "iIVJLAtMjaTT",
        "outputId": "51a13ab5-8f5e-416f-be22-e8f63f13f9c1"
      },
      "execution_count": null,
      "outputs": [
        {
          "output_type": "stream",
          "name": "stdout",
          "text": [
            "0\n",
            "1\n",
            "2\n",
            "3\n",
            "4\n",
            "5\n",
            "6\n",
            "7\n",
            "8\n",
            "9\n"
          ]
        }
      ]
    },
    {
      "cell_type": "code",
      "source": [
        "l = [1,4,5,7,8,9,6,0,10]\n",
        "s = []\n",
        "for i in l:\n",
        "  if i%2 ==0 :\n",
        "    if i%3 ==0:\n",
        "      pass\n",
        "    s.append(\"Even\")\n",
        "  else:\n",
        "    s.append(\"Odd\")\n",
        "print(s)\n",
        "\n",
        "\n"
      ],
      "metadata": {
        "colab": {
          "base_uri": "https://localhost:8080/"
        },
        "id": "Z6xkxo2sjmyQ",
        "outputId": "ad0e54f1-f039-4486-ccd9-82d91a188ef4"
      },
      "execution_count": null,
      "outputs": [
        {
          "output_type": "stream",
          "name": "stdout",
          "text": [
            "['Odd', 'Even', 'Odd', 'Odd', 'Even', 'Odd', 'Even', 'Even', 'Even']\n"
          ]
        }
      ]
    },
    {
      "cell_type": "code",
      "source": [],
      "metadata": {
        "colab": {
          "base_uri": "https://localhost:8080/",
          "height": 106
        },
        "id": "ygnO7wzNqd3_",
        "outputId": "17e2943b-95ad-424f-a1e1-bf37d7a3bafe"
      },
      "execution_count": null,
      "outputs": [
        {
          "output_type": "error",
          "ename": "SyntaxError",
          "evalue": "invalid syntax (ipython-input-1390570892.py, line 1)",
          "traceback": [
            "\u001b[0;36m  File \u001b[0;32m\"/tmp/ipython-input-1390570892.py\"\u001b[0;36m, line \u001b[0;32m1\u001b[0m\n\u001b[0;31m    Write a program that continuously asks the user to provide an input number.\u001b[0m\n\u001b[0m          ^\u001b[0m\n\u001b[0;31mSyntaxError\u001b[0m\u001b[0;31m:\u001b[0m invalid syntax\n"
          ]
        }
      ]
    },
    {
      "cell_type": "markdown",
      "source": [
        "\n",
        "Write a program that continuously asks the user to provide an input number.\n",
        "Print the square of that input number.\n",
        "The program should stop if the user enters 5.\n",
        "In case user enters any multiple of 4, skip it."
      ],
      "metadata": {
        "id": "rW_X6LodqlOx"
      }
    },
    {
      "cell_type": "code",
      "source": [
        "\n",
        "while True:\n",
        "  i = int(input(\"Enter number: \"))\n",
        "  if i == 5:\n",
        "    print(\"Loop broke\")\n",
        "    break\n",
        "  if i%4 ==0:\n",
        "    continue\n",
        "  print(i**2)"
      ],
      "metadata": {
        "colab": {
          "base_uri": "https://localhost:8080/"
        },
        "id": "tDPLxBGCqmuA",
        "outputId": "feb9a8a1-660d-452a-841e-0391ab8ef226"
      },
      "execution_count": null,
      "outputs": [
        {
          "output_type": "stream",
          "name": "stdout",
          "text": [
            "Enter number: 2\n",
            "4\n",
            "Enter number: 4\n",
            "16\n",
            "Enter number: 5\n",
            "Loop broke\n"
          ]
        }
      ]
    },
    {
      "cell_type": "code",
      "source": [
        "*****\n",
        "*****\n",
        "*****"
      ],
      "metadata": {
        "id": "09BSUhwkt-3x"
      },
      "execution_count": null,
      "outputs": []
    },
    {
      "cell_type": "code",
      "source": [
        "for x in range(3):\n",
        "  for y in range(5):\n",
        "    print('*', end = '')\n",
        "  print('')\n"
      ],
      "metadata": {
        "colab": {
          "base_uri": "https://localhost:8080/"
        },
        "id": "--c_V3BVvo1Q",
        "outputId": "9856c777-0bc5-4cd9-b662-25fb84be9782"
      },
      "execution_count": null,
      "outputs": [
        {
          "output_type": "stream",
          "name": "stdout",
          "text": [
            "*****\n",
            "*****\n",
            "*****\n"
          ]
        }
      ]
    },
    {
      "cell_type": "code",
      "source": [
        "*\n",
        "**\n",
        "***\n",
        "****\n",
        "*****"
      ],
      "metadata": {
        "id": "4zAY4ws8t-6Q"
      },
      "execution_count": null,
      "outputs": []
    },
    {
      "cell_type": "code",
      "source": [
        "n = 5\n",
        "for x in range(n):\n",
        "  for y in range(x + 1):\n",
        "    print('*', end = \"\")\n",
        "  print()"
      ],
      "metadata": {
        "colab": {
          "base_uri": "https://localhost:8080/"
        },
        "id": "-4FRt9bMwUPo",
        "outputId": "00696b01-de04-4d85-db28-a2b045956803"
      },
      "execution_count": null,
      "outputs": [
        {
          "output_type": "stream",
          "name": "stdout",
          "text": [
            "*\n",
            "**\n",
            "***\n",
            "****\n",
            "*****\n"
          ]
        }
      ]
    },
    {
      "cell_type": "code",
      "source": [
        "    *\n",
        "   ***\n",
        "  *****\n",
        " *******\n",
        "*********"
      ],
      "metadata": {
        "id": "ZMtIPsP0uHGa"
      },
      "execution_count": null,
      "outputs": []
    },
    {
      "cell_type": "code",
      "source": [
        "n = 5\n",
        "for i in range(n):\n",
        "  for j in range(n-i-1):\n",
        "    print(' ',end ='')\n",
        "  for z in range(2*i+1):\n",
        "    print('*', end='')\n",
        "  print()\n",
        "\n"
      ],
      "metadata": {
        "colab": {
          "base_uri": "https://localhost:8080/"
        },
        "id": "g0YZtaQqx2-m",
        "outputId": "cc152688-6454-430e-8843-43e7756996d6"
      },
      "execution_count": null,
      "outputs": [
        {
          "output_type": "stream",
          "name": "stdout",
          "text": [
            "    *\n",
            "   ***\n",
            "  *****\n",
            " *******\n",
            "*********\n"
          ]
        }
      ]
    },
    {
      "cell_type": "code",
      "source": [
        "    *\n",
        "   ***\n",
        "  *****\n",
        " *******\n",
        "*********\n",
        " *******\n",
        "  *****\n",
        "   ***\n",
        "    *"
      ],
      "metadata": {
        "id": "bMPEl8nJ2Zmu"
      },
      "execution_count": null,
      "outputs": []
    },
    {
      "cell_type": "code",
      "source": [
        "n = 5\n",
        "for i in range(n):\n",
        "  for j in range(n-i-1):\n",
        "    print(' ',end ='')\n",
        "  for z in range(2*i+1):\n",
        "    print('*', end='')\n",
        "  print()\n",
        "for i in range(n-1):\n",
        "  for j in range(i+1):\n",
        "    print(' ', end='')\n",
        "  for z in range(2*(n-i-2)+1):\n",
        "    print('*', end='')\n",
        "  print()"
      ],
      "metadata": {
        "colab": {
          "base_uri": "https://localhost:8080/"
        },
        "id": "LtF2ardx3yjj",
        "outputId": "7bce4b93-399d-428c-a44b-a6d4fc54ce51"
      },
      "execution_count": null,
      "outputs": [
        {
          "output_type": "stream",
          "name": "stdout",
          "text": [
            "    *\n",
            "   ***\n",
            "  *****\n",
            " *******\n",
            "*********\n",
            " *******\n",
            "  *****\n",
            "   ***\n",
            "    *\n"
          ]
        }
      ]
    },
    {
      "cell_type": "code",
      "source": [
        "*****\n",
        "*   *\n",
        "*   *\n",
        "*   *\n",
        "*****\n"
      ],
      "metadata": {
        "id": "lriC3m5M2al-"
      },
      "execution_count": null,
      "outputs": []
    },
    {
      "cell_type": "code",
      "source": [
        "n=5\n",
        "for i in range(n):\n",
        "  for j in range(n):\n",
        "    if(i==n-1 or i==0 or j == 0 or j == n-1):\n",
        "      print('*', end='')\n",
        "    else:\n",
        "      print(' ', end='')\n",
        "  print()\n"
      ],
      "metadata": {
        "colab": {
          "base_uri": "https://localhost:8080/"
        },
        "id": "-2dI0-wx-gZV",
        "outputId": "51e07a9b-f714-4ce9-8684-fff3480e3587"
      },
      "execution_count": null,
      "outputs": [
        {
          "output_type": "stream",
          "name": "stdout",
          "text": [
            "*****\n",
            "*   *\n",
            "*   *\n",
            "*   *\n",
            "*****\n"
          ]
        }
      ]
    },
    {
      "cell_type": "code",
      "source": [],
      "metadata": {
        "id": "GMg391dQZCeH"
      },
      "execution_count": null,
      "outputs": []
    },
    {
      "cell_type": "markdown",
      "source": [
        "    *******\n",
        "    ******\n",
        "    *****\n",
        "    ****\n",
        "    ***\n",
        "    **\n",
        "    *"
      ],
      "metadata": {
        "id": "GibZPRd9V5bC"
      }
    },
    {
      "cell_type": "markdown",
      "source": [],
      "metadata": {
        "id": "eoEUTFjbZMeP"
      }
    },
    {
      "cell_type": "code",
      "source": [
        "n=7\n",
        "for i in range(n):\n",
        "  print('*', end='')\n",
        "  for j in range(n-i-1):\n",
        "    print('*', end='')\n",
        "  print()\n"
      ],
      "metadata": {
        "colab": {
          "base_uri": "https://localhost:8080/"
        },
        "id": "RKO73n8BWDlT",
        "outputId": "447a7120-6fbf-400d-d4a8-780b4e8ba340"
      },
      "execution_count": null,
      "outputs": [
        {
          "output_type": "stream",
          "name": "stdout",
          "text": [
            "*******\n",
            "******\n",
            "*****\n",
            "****\n",
            "***\n",
            "**\n",
            "*\n"
          ]
        }
      ]
    },
    {
      "cell_type": "code",
      "source": [
        "s = [1,2,3,[4,5],5,6,77,8]\n",
        "s3 = s.pop(3)\n",
        "s3"
      ],
      "metadata": {
        "colab": {
          "base_uri": "https://localhost:8080/"
        },
        "id": "vJA89LC12ekH",
        "outputId": "e8559d57-2966-49db-eca6-22492a0a5db2"
      },
      "execution_count": null,
      "outputs": [
        {
          "output_type": "execute_result",
          "data": {
            "text/plain": [
              "[4, 5]"
            ]
          },
          "metadata": {},
          "execution_count": 68
        }
      ]
    },
    {
      "cell_type": "code",
      "source": [
        "s"
      ],
      "metadata": {
        "colab": {
          "base_uri": "https://localhost:8080/"
        },
        "id": "l-DAQeO5380H",
        "outputId": "ca13f66d-b828-4a6b-c16c-a807514c46a3"
      },
      "execution_count": null,
      "outputs": [
        {
          "output_type": "execute_result",
          "data": {
            "text/plain": [
              "[1, 2, 3, 5, 6, 77, 8]"
            ]
          },
          "metadata": {},
          "execution_count": 69
        }
      ]
    },
    {
      "cell_type": "code",
      "source": [
        "Write a program to check palindrome - With loops\n",
        "Write program count the blank spaces.\n",
        "Write a program to Reversing a String without using reverse()- Try doing this with looops\n",
        "Write a program to count no. of vowels and print all the vowels."
      ],
      "metadata": {
        "id": "GdFMTcOp5Rab"
      },
      "execution_count": null,
      "outputs": []
    },
    {
      "cell_type": "code",
      "source": [
        "p = 'abcba'\n",
        "p[::-1]"
      ],
      "metadata": {
        "colab": {
          "base_uri": "https://localhost:8080/",
          "height": 35
        },
        "id": "56XoHAhU5RdJ",
        "outputId": "40bca1d4-8485-4c07-b990-ece453d9fd1f"
      },
      "execution_count": null,
      "outputs": [
        {
          "output_type": "execute_result",
          "data": {
            "text/plain": [
              "'abcba'"
            ],
            "application/vnd.google.colaboratory.intrinsic+json": {
              "type": "string"
            }
          },
          "metadata": {},
          "execution_count": 72
        }
      ]
    },
    {
      "cell_type": "code",
      "source": [
        "p = \"My name is Rishabh\"\n",
        "p.count(' ')"
      ],
      "metadata": {
        "colab": {
          "base_uri": "https://localhost:8080/"
        },
        "id": "dMvKNrbW5zF8",
        "outputId": "79ac0830-ffb4-43af-9b6e-70e6a1d4a616"
      },
      "execution_count": null,
      "outputs": [
        {
          "output_type": "execute_result",
          "data": {
            "text/plain": [
              "3"
            ]
          },
          "metadata": {},
          "execution_count": 73
        }
      ]
    },
    {
      "cell_type": "code",
      "source": [
        "y= 0\n",
        "for x in p:\n",
        "  if x ==' ':\n",
        "    y+=1\n",
        "print(y)"
      ],
      "metadata": {
        "colab": {
          "base_uri": "https://localhost:8080/"
        },
        "id": "5munnS5O53-7",
        "outputId": "046e575b-df90-411c-d810-1d212e327228"
      },
      "execution_count": null,
      "outputs": [
        {
          "output_type": "stream",
          "name": "stdout",
          "text": [
            "3\n"
          ]
        }
      ]
    },
    {
      "cell_type": "code",
      "source": [
        "n=5\n",
        "for i in range(5):\n",
        "  for j in range(n-i-1):\n",
        "    print(' ', end='')\n",
        "  for k in range(i+1):\n",
        "    print('*', end='')\n",
        "  print()\n"
      ],
      "metadata": {
        "colab": {
          "base_uri": "https://localhost:8080/"
        },
        "id": "xa2I77tVZbFL",
        "outputId": "c8dc02cc-7aae-40aa-a950-ac5b9deb84e4"
      },
      "execution_count": null,
      "outputs": [
        {
          "output_type": "stream",
          "name": "stdout",
          "text": [
            "    *\n",
            "   **\n",
            "  ***\n",
            " ****\n",
            "*****\n"
          ]
        }
      ]
    },
    {
      "cell_type": "code",
      "source": [
        "* * * * * * * * *\n",
        "  * * * * * * *\n",
        "    * * * * *\n",
        "      * * *\n",
        "        *"
      ],
      "metadata": {
        "id": "ZB9faNpGeMrP"
      },
      "execution_count": null,
      "outputs": []
    },
    {
      "cell_type": "code",
      "source": [
        "n=5\n",
        "for i in range(n):\n",
        "  for s in range(i):\n",
        "    if(i==0):\n",
        "      pass\n",
        "    else:\n",
        "      print (' ', end='')\n",
        "  for j in range(2*(n-i)-1):\n",
        "    print('*', end='')\n",
        "  print()"
      ],
      "metadata": {
        "colab": {
          "base_uri": "https://localhost:8080/"
        },
        "id": "TS0uYKuRhpNa",
        "outputId": "364cc477-34c6-4e3c-ff72-0f435063ddea"
      },
      "execution_count": null,
      "outputs": [
        {
          "output_type": "stream",
          "name": "stdout",
          "text": [
            "*********\n",
            " *******\n",
            "  *****\n",
            "   ***\n",
            "    *\n"
          ]
        }
      ]
    },
    {
      "cell_type": "code",
      "source": [
        "     ******\n",
        "    ******\n",
        "   ******\n",
        "  ******\n",
        " ******\n",
        "******"
      ],
      "metadata": {
        "id": "QYuw6UR2oONl"
      },
      "execution_count": null,
      "outputs": []
    },
    {
      "cell_type": "code",
      "source": [
        "n=6\n",
        "for i in range(n):\n",
        "  for j in range(n-i-1):\n",
        "    print(' ', end='')\n",
        "  for k in range(n):\n",
        "    print('*', end='')\n",
        "  print()"
      ],
      "metadata": {
        "colab": {
          "base_uri": "https://localhost:8080/"
        },
        "id": "Yq4yERJFoQNL",
        "outputId": "9608e0fd-b6ee-4321-8308-72afb37a2ead"
      },
      "execution_count": null,
      "outputs": [
        {
          "output_type": "stream",
          "name": "stdout",
          "text": [
            "     ******\n",
            "    ******\n",
            "   ******\n",
            "  ******\n",
            " ******\n",
            "******\n"
          ]
        }
      ]
    },
    {
      "cell_type": "code",
      "source": [
        "*          *\n",
        "**        **\n",
        "***      ***\n",
        "****    ****\n",
        "*****  *****\n",
        "************\n",
        "************\n",
        "*****  *****\n",
        "****    ****\n",
        "***      ***\n",
        "**        **\n",
        "*          *\n",
        "\n",
        "\n",
        "**\n",
        "****\n",
        "******\n",
        "********\n",
        "**********\n",
        "************\n"
      ],
      "metadata": {
        "id": "ZCx_Gdn4o0u4"
      },
      "execution_count": null,
      "outputs": []
    },
    {
      "cell_type": "code",
      "source": [
        "n = 6\n",
        "\n",
        "for i in range(1, n+1):\n",
        "    # Left stars\n",
        "    for j in range(i):\n",
        "        print('*', end='')\n",
        "    # Spaces\n",
        "    for k in range(2*(n-i)):# even number of spaces\n",
        "        print(' ', end='')\n",
        "    # Right stars\n",
        "    for j in range(i):\n",
        "        print('*', end='')\n",
        "    print()\n",
        "for i in range(n, 0, -1): # rnage starts from 6 to 1(loop stops before 0 (since range excludes the stop value).)\n",
        "    for j in range(i):\n",
        "      print('*', end='')\n",
        "    for k in range(2*(n-i)):\n",
        "      print(' ', end='')\n",
        "    for b in range(i):\n",
        "      print('*', end='')\n",
        "    print()\n"
      ],
      "metadata": {
        "colab": {
          "base_uri": "https://localhost:8080/"
        },
        "id": "dg-_bHJypIkX",
        "outputId": "aec03f39-c2e5-4b07-b718-2b6cc0e653ee"
      },
      "execution_count": null,
      "outputs": [
        {
          "output_type": "stream",
          "name": "stdout",
          "text": [
            "*          *\n",
            "**        **\n",
            "***      ***\n",
            "****    ****\n",
            "*****  *****\n",
            "************\n",
            "************\n",
            "*****  *****\n",
            "****    ****\n",
            "***      ***\n",
            "**        **\n",
            "*          *\n"
          ]
        }
      ]
    },
    {
      "cell_type": "code",
      "source": [
        "     *\n",
        "     **\n",
        "     ***\n",
        "     ****\n",
        "     ***\n",
        "     **\n",
        "     *"
      ],
      "metadata": {
        "colab": {
          "base_uri": "https://localhost:8080/",
          "height": 108
        },
        "id": "UrDAm9PzM7rC",
        "outputId": "24f43ca6-626d-4930-d085-31b42df1f00f"
      },
      "execution_count": null,
      "outputs": [
        {
          "output_type": "error",
          "ename": "SyntaxError",
          "evalue": "invalid syntax (ipython-input-2222883917.py, line 1)",
          "traceback": [
            "\u001b[0;36m  File \u001b[0;32m\"/tmp/ipython-input-2222883917.py\"\u001b[0;36m, line \u001b[0;32m1\u001b[0m\n\u001b[0;31m    *\u001b[0m\n\u001b[0m     ^\u001b[0m\n\u001b[0;31mSyntaxError\u001b[0m\u001b[0;31m:\u001b[0m invalid syntax\n"
          ]
        }
      ]
    },
    {
      "cell_type": "code",
      "source": [
        "n=4\n",
        "for i in range(1,n+1):\n",
        "  for j in range(n+1):\n",
        "    print(' ', end='')\n",
        "  for k in range(i):\n",
        "    print('*', end='')\n",
        "  print()\n",
        "for i in range(n-1, 0, -1):\n",
        "  for j in range(n+1):\n",
        "    print(' ', end='')\n",
        "  for k in range(i):\n",
        "    print('*', end='')\n",
        "  print()\n",
        "\n",
        "\n",
        "\n"
      ],
      "metadata": {
        "colab": {
          "base_uri": "https://localhost:8080/"
        },
        "id": "Zdx-1hcJNCJ6",
        "outputId": "0e73e016-2d3e-4b6a-f70a-8b298048b98e"
      },
      "execution_count": null,
      "outputs": [
        {
          "output_type": "stream",
          "name": "stdout",
          "text": [
            "     *\n",
            "     **\n",
            "     ***\n",
            "     ****\n",
            "     ***\n",
            "     **\n",
            "     *\n"
          ]
        }
      ]
    },
    {
      "cell_type": "code",
      "source": [
        "*******\n",
        " *   *\n",
        "  * *\n",
        "   *"
      ],
      "metadata": {
        "id": "jhsEoR9pTRfQ"
      },
      "execution_count": null,
      "outputs": []
    },
    {
      "cell_type": "code",
      "source": [
        "n=4\n",
        "for i in range(n):\n",
        "  for j in range(i):\n",
        "    print(' ', end='')\n",
        "  for k in range(2*(n-i-1)+1):## width is 2*(n-i-1)+1 and border condition is 2*(n-i-1) to get the last star in each row\n",
        "    if (i==0 or i==n-1 or k==0 or k==2*(n-i-1)):\n",
        "      print(\"*\", end='')\n",
        "    else:\n",
        "      print(' ', end='')\n",
        "  print()\n"
      ],
      "metadata": {
        "colab": {
          "base_uri": "https://localhost:8080/"
        },
        "id": "Rs1TB3j0Tpj4",
        "outputId": "4646ff75-cec4-438d-8a98-243a69bad7e3"
      },
      "execution_count": null,
      "outputs": [
        {
          "output_type": "stream",
          "name": "stdout",
          "text": [
            "*******\n",
            " *   *\n",
            "  * *\n",
            "   *\n"
          ]
        }
      ]
    },
    {
      "cell_type": "code",
      "source": [
        "   *\n",
        "  * *\n",
        " *   *\n",
        "*******"
      ],
      "metadata": {
        "id": "yEg-qhnibSUL"
      },
      "execution_count": null,
      "outputs": []
    },
    {
      "cell_type": "code",
      "source": [
        "n=4\n",
        "for i in range(n):\n",
        "  for j in range(n-i-1):\n",
        "    print(' ', end='')\n",
        "  for k in range((2*i)+1): ##width is (2*i)+1 and border condition is 2*i to get the last star in each row\n",
        "    if (i==0 or i==n-1 or k==0 or k==2*i):\n",
        "      print('*', end='')\n",
        "    else:\n",
        "      print(' ', end='')\n",
        "  print()\n"
      ],
      "metadata": {
        "colab": {
          "base_uri": "https://localhost:8080/"
        },
        "id": "xSCHos3HbxQI",
        "outputId": "34a7ff51-4ad9-40a3-f319-468f5c73b855"
      },
      "execution_count": null,
      "outputs": [
        {
          "output_type": "stream",
          "name": "stdout",
          "text": [
            "   *\n",
            "  * *\n",
            " *   *\n",
            "*******\n"
          ]
        }
      ]
    },
    {
      "cell_type": "code",
      "source": [
        "Q1 : Description\n",
        "Sometimes the data has few duplicate values which will affect the analysis done.\n",
        " In this problem, you will be given a list. You have to find and delete\n",
        " the duplicates and print the updated list with no duplicates.\n",
        "\n",
        "----------------------------------------------------------------------\n",
        "Input:\n",
        "A list of integers.\n",
        "\n",
        "Output:\n",
        "A list of integers, with duplicates removed if any.\n",
        "\n",
        "----------------------------------------------------------------------\n",
        "Sample input:\n",
        "[8, 9, 2, 2, 3, 4, 5, 2]\n",
        "\n",
        "Sample output:\n",
        "[8, 9, 2, 3, 4, 5]\n",
        "\n",
        "----------------------------------------------------------------------\n",
        "Sample input:\n",
        "[4, 4, 4, 4]\n",
        "\n",
        "Sample output:\n",
        "[4]\n",
        "\n",
        "----------------------------------------------------------------------\n",
        "Note the order of the data did not change in input and output.\n"
      ],
      "metadata": {
        "colab": {
          "base_uri": "https://localhost:8080/",
          "height": 108
        },
        "id": "tBGQ5iPLlhEd",
        "outputId": "2bbc4400-64cd-4bc8-fdea-0de268dc5e38"
      },
      "execution_count": null,
      "outputs": [
        {
          "output_type": "error",
          "ename": "SyntaxError",
          "evalue": "unterminated string literal (detected at line 1) (ipython-input-478587889.py, line 1)",
          "traceback": [
            "\u001b[0;36m  File \u001b[0;32m\"/tmp/ipython-input-478587889.py\"\u001b[0;36m, line \u001b[0;32m1\u001b[0m\n\u001b[0;31m    d={'name':'Akhi,'Age': 25}\u001b[0m\n\u001b[0m                        ^\u001b[0m\n\u001b[0;31mSyntaxError\u001b[0m\u001b[0;31m:\u001b[0m unterminated string literal (detected at line 1)\n"
          ]
        }
      ]
    },
    {
      "cell_type": "code",
      "source": [
        "IPArr=[8, 9, 2, 2, 3, 4, 5, 2]\n",
        "OPset=set()\n",
        "result=[]\n",
        "for num in IPArr:\n",
        "  if num not in OPset:\n",
        "    OPset.add(num)\n",
        "    result.append(num)\n",
        "print(result)\n"
      ],
      "metadata": {
        "colab": {
          "base_uri": "https://localhost:8080/"
        },
        "id": "nHgqNBnDiCBf",
        "outputId": "560e8490-2dcd-4985-cdbd-e386600126a7"
      },
      "execution_count": null,
      "outputs": [
        {
          "output_type": "stream",
          "name": "stdout",
          "text": [
            "[8, 9, 2, 3, 4, 5]\n"
          ]
        }
      ]
    },
    {
      "cell_type": "code",
      "source": [
        "Q2 : You will be converting a dictionary, of string(keys)\n",
        "and list of string (values),  to a list of strings.\n",
        "Please check the sample input/output for clarification.\n",
        "\n",
        "\n",
        "Input:\n",
        "A dictionary with keys as strings and values as a list of strings.\n",
        "\n",
        "Output:\n",
        "A list of strings\n",
        "\n",
        "\n",
        "Sample input:\n",
        "{‘Mobile’: [‘Redmi’, ‘Samsung’, ‘Realme’],\n",
        "‘Laptop’: [‘Dell’, ‘HP’],\n",
        "‘TV’: [‘Videocon’, ‘Sony’] }\n",
        "\n",
        "Sample output:\n",
        "[‘Mobile_Redmi’, ‘Mobile_Samsung’, ‘Mobile_Realme’, ‘Laptop_Dell’, ‘Laptop_HP’, ‘TV_Videocon’, ‘TV_Sony’]\n",
        "\n",
        "\n",
        "Sample input:\n",
        "{ 'Pen': ['Gel', 'Ink', 'ball'],\n",
        "'Mobile': ['Android', 'apple'] }\n",
        "\n",
        "Sample output:\n",
        "['Pen_Gel', 'Pen_Ink', 'Pen_ball', 'Mobile_Android', 'Mobile_apple']"
      ],
      "metadata": {
        "id": "v4mezIvLiXSi"
      },
      "execution_count": null,
      "outputs": []
    },
    {
      "cell_type": "code",
      "source": [
        "input={'Mobile': ['Redmi', 'Samsung', 'Realme'],\n",
        "'Laptop': ['Dell', 'HP'],\n",
        "'TV': ['Videocon', 'Sony'] }\n",
        "\n",
        "output=[]\n",
        "\n",
        "for keys,values in input.items():\n",
        "    for value in values:\n",
        "      output.append(f\"{keys}_{value}\")\n",
        "print(output)\n",
        "\n"
      ],
      "metadata": {
        "colab": {
          "base_uri": "https://localhost:8080/"
        },
        "id": "4kS9H6XAjSom",
        "outputId": "0d11b0f7-4d82-42a4-87b3-fb170ba77c5b"
      },
      "execution_count": null,
      "outputs": [
        {
          "output_type": "stream",
          "name": "stdout",
          "text": [
            "['Mobile_Redmi', 'Mobile_Samsung', 'Mobile_Realme', 'Laptop_Dell', 'Laptop_HP', 'TV_Videocon', 'TV_Sony']\n"
          ]
        }
      ]
    },
    {
      "cell_type": "code",
      "source": [
        "Q3 : Description\n",
        "You will be given a string with a lot of brackets.\n",
        "You have to print if the brackets are balanced or not. Remember,\n",
        "there are three types of brackets: ‘( )’,  ‘{ }’ and ‘[ ]’.\n",
        "\n",
        "----------------------------------------------------------------------\n",
        "Input:\n",
        "A string\n",
        "\n",
        "Output:\n",
        "Yes, if the brackets are balanced.\n",
        "No otherwise."
      ],
      "metadata": {
        "id": "v4DbppqrFCrl"
      },
      "execution_count": null,
      "outputs": []
    },
    {
      "cell_type": "code",
      "source": [
        " expression ='{[(]}'\n",
        " stack = []\n",
        "matching_brackets = {\n",
        "        ')': '(',\n",
        "        '}': '{',\n",
        "        ']': '['\n",
        "    }\n",
        "result=''\n",
        "\n",
        "for char in expression:\n",
        "  if char in \"({[\":\n",
        "    stack.append(char)\n",
        "  elif char in \")}]\":\n",
        "    if not stack:\n",
        "      result= \"No\"\n",
        "      break\n",
        "    if stack[-1] == matching_brackets[char]:\n",
        "      stack.pop()\n",
        "    else:\n",
        "      result= \"No\"\n",
        "      break\n",
        "  else:\n",
        "    continue\n",
        "if not stack:\n",
        "  print('Yes')\n",
        "else:\n",
        "  print(result)\n"
      ],
      "metadata": {
        "colab": {
          "base_uri": "https://localhost:8080/"
        },
        "id": "W2Ym1NFQ08--",
        "outputId": "9834d0c3-17b1-40ab-d7e3-612b094a659b"
      },
      "execution_count": null,
      "outputs": [
        {
          "output_type": "stream",
          "name": "stdout",
          "text": [
            "No\n"
          ]
        }
      ]
    },
    {
      "cell_type": "code",
      "source": [
        "Q4 You will be given a dictionary with keys as items and values as their prices. You have to print the cheapest item.\n",
        "\n",
        "Sample input: A single line non-empty dictionary\n",
        "\n",
        "Sample output: cheapest_item name: cheapest_item_cost\n",
        "\n",
        "Sample input: {'mobile1':10000, 'mobile2':11000, 'mobile3':13000, 'mobile4':9000,\n",
        "               'mobile5':15000, 'mobile6':16000, 'mobile7':17000, 'mobile8':18000,\n",
        "               'mobile9':19000}\n",
        "\n",
        "Sample output: mobile4: 9000\n",
        "\n",
        "Note: in case of a tie, whichever item came first should be the output."
      ],
      "metadata": {
        "id": "1kUXgqvKS9iT"
      },
      "execution_count": null,
      "outputs": []
    },
    {
      "cell_type": "code",
      "source": [
        "items = {'mobile1':10000, 'mobile2':11000, 'mobile3':13000, 'mobile4':9000,\n",
        "         'mobile5':15000, 'mobile6':16000, 'mobile7':17000, 'mobile8':18000,\n",
        "         'mobile9':19000}\n",
        "\n",
        "\n",
        "cheapest_key = min(items, key=lambda k: items[k])\n",
        "\n",
        "print(f\"{cheapest_key}: {items[cheapest_key]}\")\n",
        "\n",
        "\n",
        "\n",
        "\n",
        "\n"
      ],
      "metadata": {
        "colab": {
          "base_uri": "https://localhost:8080/"
        },
        "id": "9s1HhDvKTAVc",
        "outputId": "1897ef4e-cfc8-4b10-cf4d-717edff9a0c6"
      },
      "execution_count": null,
      "outputs": [
        {
          "output_type": "stream",
          "name": "stdout",
          "text": [
            "mobile4: 9000\n"
          ]
        }
      ]
    },
    {
      "cell_type": "code",
      "source": [
        "Q5 You will be given a list of repeated elements. You have to find the maximum\n",
        "distance between two same elements. The answer will be zero if there are no repeated elements.\n",
        "\n",
        "Input: A non-empty list of integers.\n",
        "\n",
        "Output: A single integer denoting the maximum distance between two same integers.\n",
        "\n",
        "Sample input: [1, 2, 3, 2, 5, 1, 2, 4, 6, 2, 7, 8, 6]\n",
        "\n",
        "Sample output: 8\n",
        "\n",
        "Explanation: Max distance for 1: 5 Max distance for 2: 8 Max distance for 3: 0\n",
        "Max distance for 4: 0 Max distance for 5: 0 Max distance for 6: 4 Max distance for 7: 0\n",
        " Max distance for 8: 0"
      ],
      "metadata": {
        "id": "ImVgrmGki4e2"
      },
      "execution_count": null,
      "outputs": []
    },
    {
      "cell_type": "code",
      "source": [
        "arr = [1, 2, 3, 2, 5, 1, 2, 4, 6, 2, 7, 8, 6]\n",
        "first_occurrence = {}\n",
        "max_dist = 0\n",
        "for i, num in enumerate(arr):\n",
        "  if num not in first_occurrence:\n",
        "    first_occurrence[num] = i\n",
        "  else:\n",
        "    dist = i - first_occurrence[num]\n",
        "    max_dist = max(max_dist, dist)\n",
        "\n",
        "print(max_dist)\n",
        "\n"
      ],
      "metadata": {
        "colab": {
          "base_uri": "https://localhost:8080/"
        },
        "id": "Gg9haOrflr6D",
        "outputId": "cbb8d2ca-bc5c-481b-d937-dadd55863713"
      },
      "execution_count": null,
      "outputs": [
        {
          "output_type": "stream",
          "name": "stdout",
          "text": [
            "8\n"
          ]
        }
      ]
    },
    {
      "cell_type": "code",
      "source": [
        "Q6 Your team is going for camping and you are taking a vote to decide what food to pack for dinner.\n",
        "Everyone gets a vote and the food item that gets at least one more than half of the votes wins.\n",
        "None of the items wins if nothing gets at least one more than half votes.\n",
        "Assume that every person gets only one vote. The input will contain a list of food items\n",
        "where each occurrence of an item represents one vote. You should print the winning food item as output\n",
        "If there is no clear winner, print \"NOTA\".\n",
        "\n",
        "Sample Input: [\"pasta\",\"pasta\",\"pasta\",\"pasta\",\"pasta\",\"paratha\",\"paratha\",\"paratha\"]\n",
        "\n",
        "Sample Output: pasta"
      ],
      "metadata": {
        "id": "9lFThxUycW5s"
      },
      "execution_count": null,
      "outputs": []
    },
    {
      "cell_type": "code",
      "source": [
        "votes = [\"pasta\",\"pasta\",\"pasta\",\"pasta\",\"pasta\",\"paratha\",\"paratha\",\"paratha\"]\n",
        "vote_count = {}\n",
        "total = len(votes)\n",
        "for item in votes:\n",
        "  if item in vote_count:\n",
        "    vote_count[item] += 1\n",
        "  else:\n",
        "    vote_count[item] = 1\n",
        "\n",
        "winner = \"NOTA\"\n",
        "for item, count in vote_count.items():\n",
        "    if count > total // 2:\n",
        "        winner = item\n",
        "        break\n",
        "\n",
        "print(winner)"
      ],
      "metadata": {
        "colab": {
          "base_uri": "https://localhost:8080/"
        },
        "id": "pi1IGqJhcv4O",
        "outputId": "f2db22a2-1b64-4815-d9b6-c4d3f6d075cd"
      },
      "execution_count": null,
      "outputs": [
        {
          "output_type": "stream",
          "name": "stdout",
          "text": [
            "pasta\n"
          ]
        }
      ]
    },
    {
      "cell_type": "code",
      "source": [
        "Q7 Consider a nested dictionary as follows:\n",
        "\n",
        "{'Fruit': 1, 'Vegetable': {'Cabbage': 2, 'Cauliflower': 3}, 'Spices': 4}\n",
        "\n",
        "Your task is to flatten a nested dictionary and join the nested keys\n",
        "with the \"_\" character. For the above dictionary, the flattened dictionary would be as follows:\n",
        "\n",
        "{'Fruit': 1, 'Vegetable_Cabbage': 2, 'Vegetable_Cauliflower': 3, 'Spices': 4}\n",
        "\n",
        "\n",
        "\n",
        "The input will have a nested dictionary.\n",
        "\n",
        "The output should have two lists. The first list will have keys and\n",
        "the second list should have values. Both lists should be sorted."
      ],
      "metadata": {
        "id": "UDdvuaM6Jljn"
      },
      "execution_count": null,
      "outputs": []
    },
    {
      "cell_type": "code",
      "source": [
        "data = {'Fruit': 1, 'Vegetable': {'Cabbage': 2, 'Cauliflower': 3}, 'Spices': 4}\n",
        "\n",
        "output = {}\n",
        "\n",
        "for key, value in data.items():\n",
        "    if isinstance(value, dict):\n",
        "        for inner_key, inner_value in value.items():\n",
        "            output[key + \"_\" + inner_key] = inner_value\n",
        "    else:\n",
        "        output[key] = value\n",
        "\n",
        "keys = output.keys()\n",
        "values = output.values()\n",
        "\n",
        "print(keys)\n",
        "print(values)\n",
        "\n",
        "\n"
      ],
      "metadata": {
        "colab": {
          "base_uri": "https://localhost:8080/"
        },
        "id": "sh_B810GJunT",
        "outputId": "4795f0d3-a404-4f75-a6cf-937c168ffaed"
      },
      "execution_count": null,
      "outputs": [
        {
          "output_type": "stream",
          "name": "stdout",
          "text": [
            "dict_keys(['Fruit', 'Vegetable_Cabbage', 'Vegetable_Cauliflower', 'Spices'])\n",
            "dict_values([1, 2, 3, 4])\n"
          ]
        }
      ]
    },
    {
      "cell_type": "code",
      "source": [
        "Q 8 In the binary search, you kept reducing the search space into half of the\n",
        "previous search space. In this question, can you similarly reduce the search\n",
        "space in one-third of the last space search and write a searching algorithm?\n",
        "\n",
        "\n",
        "Input: A non-empty sorted list of unique integers in line one The integer key to be found in line two\n",
        "\n",
        "Output: Index of the element key if it is present in the list, else -1\n",
        "\n",
        "Sample input: [3, 5, 7, 9, 11, 13, 15, 17, 19, 21, 23, 25, 27]\n",
        "\n",
        "17\n",
        "\n",
        "Sample output: 7\n",
        "\n",
        "Sample input: [3, 5, 7, 9, 11, 13, 15, 17, 19, 21, 23, 25, 27]\n",
        "\n",
        "1\n",
        "\n",
        "Sample output: -1"
      ],
      "metadata": {
        "id": "UJphxfCKMUMY"
      },
      "execution_count": null,
      "outputs": []
    },
    {
      "cell_type": "code",
      "source": [
        "arr=[3, 5, 7, 9, 11, 13, 15, 17, 19, 21, 23, 25, 27]\n",
        "key=17\n",
        "left=0\n",
        "right=len(arr)-1\n",
        "\n",
        "while left<=right:\n",
        "  mid=(left+right)//2\n",
        "  if key>arr[mid]:\n",
        "    left=mid+1\n",
        "  elif key<arr[mid]:\n",
        "    right=mid-1\n",
        "\n",
        "\n",
        "\n",
        "\n"
      ],
      "metadata": {
        "colab": {
          "base_uri": "https://localhost:8080/"
        },
        "id": "p6Um7pozSDCD",
        "outputId": "21eee9f7-1e95-4a48-93b7-b32c139c672e"
      },
      "execution_count": null,
      "outputs": [
        {
          "output_type": "stream",
          "name": "stdout",
          "text": [
            "0\n",
            "12\n",
            "0\n"
          ]
        }
      ]
    },
    {
      "cell_type": "code",
      "source": [
        "l=[1,2,3,4]\n",
        "list(filter(lambda x: x%2==0, l))"
      ],
      "metadata": {
        "colab": {
          "base_uri": "https://localhost:8080/"
        },
        "id": "TNnts0rK5pbV",
        "outputId": "f6917504-ee43-4214-bb32-e3c6a88501de"
      },
      "execution_count": null,
      "outputs": [
        {
          "output_type": "execute_result",
          "data": {
            "text/plain": [
              "[2, 4]"
            ]
          },
          "metadata": {},
          "execution_count": 3
        }
      ]
    },
    {
      "cell_type": "code",
      "source": [
        "strs=[\"x\"]\n",
        "anagrams = {}\n",
        "for word in strs:\n",
        "  key = ''.join(sorted(word))\n",
        "  if key not in anagrams:\n",
        "    anagrams[key]=[]\n",
        "    anagrams[key].append(word)\n",
        "  else:\n",
        "    anagrams[key].append(word)\n",
        "print(list(anagrams.values()))\n"
      ],
      "metadata": {
        "colab": {
          "base_uri": "https://localhost:8080/"
        },
        "id": "trAF9q21UuGl",
        "outputId": "92cf3a64-951d-4978-f1ef-3001b32389a0"
      },
      "execution_count": null,
      "outputs": [
        {
          "output_type": "stream",
          "name": "stdout",
          "text": [
            "[['x']]\n"
          ]
        }
      ]
    },
    {
      "cell_type": "code",
      "source": [
        "s = \"racecar\"\n",
        "t = \"carrace\"\n",
        "\n",
        "sdict={}\n",
        "tdict={}\n",
        "\n",
        "for char in s:\n",
        "  if char not in sdict:\n",
        "    sdict[char]=1\n",
        "  else:\n",
        "    sdict[char]+=1\n",
        "\n",
        "for char in t:\n",
        "  if char not in tdict:\n",
        "    tdict[char]=1\n",
        "  else:\n",
        "    tdict[char]+=1\n",
        "if sdict==tdict:#Python checks if both have the exact same keys with the exact same values — order doesn’t matter.\n",
        "  print(True)\n",
        "else:\n",
        "  print(False)\n",
        "\n"
      ],
      "metadata": {
        "colab": {
          "base_uri": "https://localhost:8080/"
        },
        "id": "s8Zb_kZg8Qdm",
        "outputId": "b823b097-490a-4e71-c6e6-93bf9b921e55"
      },
      "execution_count": null,
      "outputs": [
        {
          "output_type": "stream",
          "name": "stdout",
          "text": [
            "True\n"
          ]
        }
      ]
    },
    {
      "cell_type": "code",
      "source": [
        "nums=[1,2,2,3,3,3]\n",
        "ndict={}\n",
        "k=2\n",
        "for num in nums:\n",
        "  if num not in ndict:\n",
        "    ndict[num]=1\n",
        "  else:\n",
        "    ndict[num]+=1\n",
        "\n",
        "temp=ndict\n",
        "out=[]\n",
        "for i in range(k):\n",
        "  max_key=max(temp,key=temp.get)\n",
        "  out.append(max_key)\n",
        "  temp.pop(max_key)\n",
        "print(sorted(out))\n"
      ],
      "metadata": {
        "id": "ZtUxbAnt6tff",
        "colab": {
          "base_uri": "https://localhost:8080/"
        },
        "outputId": "604e28bc-760c-411e-c908-92036d9c9416"
      },
      "execution_count": null,
      "outputs": [
        {
          "output_type": "stream",
          "name": "stdout",
          "text": [
            "[2, 3]\n"
          ]
        }
      ]
    },
    {
      "cell_type": "code",
      "source": [
        "s=\"racecar\"\n",
        "left = 0\n",
        "right = len(s) - 1\n",
        "out=True\n",
        "while left < right:\n",
        "  if s[left] != s[right]:\n",
        "    out=False\n",
        "    break\n",
        "  else:\n",
        "    left += 1\n",
        "    right -= 1\n",
        "print(out)\n"
      ],
      "metadata": {
        "id": "zDM_sSE2IS2c",
        "colab": {
          "base_uri": "https://localhost:8080/"
        },
        "outputId": "daf18197-57e0-4927-9508-bd823893d644"
      },
      "execution_count": null,
      "outputs": [
        {
          "output_type": "stream",
          "name": "stdout",
          "text": [
            "True\n"
          ]
        }
      ]
    }
  ]
}